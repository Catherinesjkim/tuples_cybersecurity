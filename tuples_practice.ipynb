{
 "cells": [
  {
   "cell_type": "markdown",
   "metadata": {},
   "source": [
    "# 🛡️ Practicing Tuples in Python for Security Contexts\n",
    "\n",
    "This notebook demonstrates creating and working with tuples, including examples of how immutability can help protect data integrity in cybersecurity scenarios like access control lists (ACLs) or trusted software lists."
   ]
  },
  {
   "cell_type": "markdown",
   "metadata": {},
   "source": [
    "## ✅ What you’ll learn by running this notebook:\n",
    "✔️ How to create tuples of different data types  \n",
    "✔️ How to access tuple elements  \n",
    "✔️ That trying to modify a tuple causes an error  \n",
    "✔️ Why tuples are useful for fixed, unchangeable data (e.g., security lists)  \n",
    "✔️ How to do safe lookups in tuples  "
   ]
  },
  {
   "cell_type": "code",
   "execution_count": null,
   "metadata": {},
   "outputs": [],
   "source": [
    "# Example tuples\n",
    "users = (\"wjaffrey\", \"arutley\", \"dkot\")\n",
    "ports = (46, 2, 13, 2, 8, 0, 0)\n",
    "access_flags = (True, False, True, True)\n",
    "mixed = (\"wjaffrey\", 13, True)\n",
    "\n",
    "print(\"Users tuple:\", users)\n",
    "print(\"Ports tuple:\", ports)\n",
    "print(\"Access flags tuple:\", access_flags)\n",
    "print(\"Mixed tuple:\", mixed)"
   ]
  },
  {
   "cell_type": "code",
   "execution_count": null,
   "metadata": {},
   "outputs": [],
   "source": [
    "# Accessing elements with indexing\n",
    "first_user = users[0]\n",
    "print(\"First user in ACL:\", first_user)\n",
    "\n",
    "third_port = ports[2]\n",
    "print(\"Third blocked port:\", third_port)"
   ]
  },
  {
   "cell_type": "code",
   "execution_count": null,
   "metadata": {},
   "outputs": [],
   "source": [
    "try:\n",
    "    users[0] = \"hacker\"\n",
    "except TypeError as e:\n",
    "    print(\"Tuples are immutable! Error:\", e)"
   ]
  },
  {
   "cell_type": "code",
   "execution_count": null,
   "metadata": {},
   "outputs": [],
   "source": [
    "trusted_software_ids = (\"softA-123\", \"softB-456\", \"softC-789\")\n",
    "\n",
    "# Check if a given software ID is trusted\n",
    "def is_trusted(software_id, trusted_ids):\n",
    "    return software_id in trusted_ids\n",
    "\n",
    "print(\"Is 'softA-123' trusted?\", is_trusted(\"softA-123\", trusted_software_ids))\n",
    "print(\"Is 'malware-001' trusted?\", is_trusted(\"malware-001\", trusted_software_ids))"
   ]
  },
  {
   "cell_type": "code",
   "execution_count": null,
   "metadata": {},
   "outputs": [],
   "source": [
    "print(\"Number of trusted software IDs:\", len(trusted_software_ids))\n",
    "print(\"Index of 'softB-456':\", trusted_software_ids.index(\"softB-456\"))"
   ]
  }
 ],
 "metadata": {
  "kernelspec": {
   "display_name": "Python 3",
   "language": "python",
   "name": "python3"
  },
  "language_info": {
   "name": "python",
   "version": ""
  }
 },
 "nbformat": 4,
 "nbformat_minor": 2
}
